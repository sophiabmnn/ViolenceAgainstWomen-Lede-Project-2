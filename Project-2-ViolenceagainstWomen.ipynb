{
 "cells": [
  {
   "cell_type": "markdown",
   "id": "1214353c-78f7-493f-9dbf-40fb43f76a88",
   "metadata": {},
   "source": [
    "# Project 2: Violence against Women in Germany\n",
    "\n",
    "Nearly every day a woman is killed in Germany. Also, every third woman becomes a victim of sexualized or physical violence in the course of her life. However, these figures often remain abstract. That's why I scraped police reports from all over Germany for a week - and, with the support of AI, analyzed how many and what types of crimes against women were reported in this week alone."
   ]
  },
  {
   "cell_type": "markdown",
   "id": "14ca6e14-9775-4246-92bf-ee429b808e96",
   "metadata": {},
   "source": [
    "## Step 1: Import Libraries"
   ]
  },
  {
   "cell_type": "code",
   "execution_count": null,
   "id": "8b231de4-7586-4713-90ca-f8240d09a024",
   "metadata": {},
   "outputs": [],
   "source": [
    "import os\n",
    "from playwright.async_api import async_playwright, expect\n",
    "import pandas as pd\n",
    "import re\n",
    "from dotenv import load_dotenv\n",
    "load_dotenv()\n",
    "from openai import OpenAI\n",
    "from IPython.display import display, Markdown\n",
    "from tqdm.auto import tqdm\n",
    "tqdm.pandas()\n",
    "from enum import Enum, IntEnum\n",
    "from strip_tags import strip_tags\n",
    "import tiktoken\n",
    "from pydantic import BaseModel\n",
    "from sklearn.metrics import accuracy_score\n",
    "from sklearn.metrics import ConfusionMatrixDisplay\n",
    "from sklearn.metrics import precision_score, recall_score\n",
    "from sklearn.metrics import precision_score, recall_score\n",
    "import geocoder"
   ]
  },
  {
   "cell_type": "markdown",
   "id": "26646797-c40a-4219-9ce0-66514700d241",
   "metadata": {},
   "source": [
    "## Step 2: Scraping Police Reports from all over Germany\n",
    "Data source: presseportal.de (news aktuell GmbH)\n",
    "\n",
    "Observation period: 06/30/2025 to 07/06/2025"
   ]
  },
  {
   "cell_type": "code",
   "execution_count": null,
   "id": "9cccf17d-05d5-48ab-a6a5-8bedbd10f07e",
   "metadata": {},
   "outputs": [],
   "source": [
    "async def open_browser(headless=False):\n",
    "    \"\"\"\n",
    "    Starts the automated browser and opens a new window\n",
    "    \"\"\"\n",
    "    playwright = await async_playwright().start()\n",
    "    browser = await playwright.chromium.launch(headless=False)\n",
    "    context = await browser.new_context(user_agent=\"Mozilla/5.0 (Windows NT 10.0; Win64; x64) AppleWebKit/537.36 (KHTML, like Gecko) Chrome/111.0.0.0 Safari/537.36\")\n",
    "    page = await browser.new_page()\n",
    "    return browser, page"
   ]
  },
  {
   "cell_type": "code",
   "execution_count": null,
   "id": "3fd17ef3-c074-46f5-9c9d-c01fb08f155c",
   "metadata": {},
   "outputs": [],
   "source": [
    "driver, page = await open_browser()"
   ]
  },
  {
   "cell_type": "code",
   "execution_count": null,
   "id": "d9561c92-559d-4b70-95c4-a9beb29a9e18",
   "metadata": {
    "scrolled": true
   },
   "outputs": [],
   "source": [
    "url = 'https://www.presseportal.de/blaulicht/?startDate=2025-06-30&endDate=2025-07-06'\n",
    "await page.goto(url)"
   ]
  },
  {
   "cell_type": "code",
   "execution_count": null,
   "id": "c9c91ec9-5459-4d55-a625-2e7a3e0aecc1",
   "metadata": {},
   "outputs": [],
   "source": [
    "rows = []\n",
    "page_counter = 1\n",
    "while True:\n",
    "    print(f\"📄 Look at page {page_counter} …\")\n",
    "    articles = await page.locator('//article[@class=\"news\"]').all()\n",
    "    for article in articles:\n",
    "        row = {}\n",
    "        row['headline'] = await article.locator('xpath=.//h3/a[@title]').get_attribute(\"title\")\n",
    "        try:\n",
    "            row['description'] = await article.locator('xpath=.//p[2]').text_content()\n",
    "        except:\n",
    "            row['description'] = \"NaN\"\n",
    "        try:\n",
    "            row['location'] =  await article.locator(\"xpath=.//a[@class='news-topic event-trigger no-child-trigger']\").text_content()\n",
    "        except:\n",
    "            row['location'] = \"NaN\"\n",
    "        try:\n",
    "            row['date_time'] =  await article.locator('xpath = .//div[@class=\"date\"]').text_content()\n",
    "        except:\n",
    "            row['date_time'] = \"NaN\"\n",
    "        rows.append(row)\n",
    "    page_counter += 1\n",
    "    next_button = page.locator('//span[@class=\"btn pagination-next\"]')\n",
    "    if not await next_button.count():\n",
    "        break\n",
    "    next_url = await next_button.get_attribute(\"data-url\")\n",
    "    if not next_url:\n",
    "        break\n",
    "    clean_url = next_url.lstrip(\"@\")\n",
    "    if not clean_url.startswith(\"/\"):\n",
    "        clean_url = \"/\" + clean_url\n",
    "    full_url = f\"https://www.presseportal.de{clean_url}\"\n",
    "    await page.goto(full_url, timeout=60000, wait_until=\"domcontentloaded\")\n",
    "    await page.wait_for_selector(\"article.news\", timeout=30000)\n",
    "    await page.wait_for_timeout(1000)"
   ]
  },
  {
   "cell_type": "code",
   "execution_count": null,
   "id": "1994e8c0-0df1-4abc-bc97-0fbadc9f1fc0",
   "metadata": {},
   "outputs": [],
   "source": [
    "df = pd.DataFrame(rows)"
   ]
  },
  {
   "cell_type": "code",
   "execution_count": null,
   "id": "7cd10582-dc72-4af8-b17f-c673edef145e",
   "metadata": {},
   "outputs": [],
   "source": [
    "df.to_csv('week.csv', index=False)"
   ]
  },
  {
   "cell_type": "markdown",
   "id": "0ba91fc7-142c-4d6a-842a-69e980b011b5",
   "metadata": {},
   "source": [
    "## Step 3: Clean the data"
   ]
  },
  {
   "cell_type": "code",
   "execution_count": null,
   "id": "ddca167e-c6cc-468d-b5ef-82b06402fc4e",
   "metadata": {},
   "outputs": [],
   "source": [
    "df = pd.read_csv(\"week.csv\")"
   ]
  },
  {
   "cell_type": "code",
   "execution_count": null,
   "id": "5c53c295-0d59-453d-9980-183f6d54b565",
   "metadata": {},
   "outputs": [],
   "source": [
    "# Delete internal abbreviations for police stations at the beginning of \"headline\" column\n",
    "df[\"headline\"] = df[\"headline\"].str.replace(r\"^.*?:\\s\", \"\", regex = True)"
   ]
  },
  {
   "cell_type": "code",
   "execution_count": null,
   "id": "f65cdc27-32c4-4cb9-a56c-29255112b809",
   "metadata": {
    "scrolled": true
   },
   "outputs": [],
   "source": [
    "# Delete the locations at the beginning of the \"description\" column\n",
    "df[\"description\"] = df[\"description\"].str.replace(r\"^.*?-\\s\", \"\", regex = True)"
   ]
  },
  {
   "cell_type": "code",
   "execution_count": null,
   "id": "291341d1-50fe-49e2-9223-bf0ca5e393da",
   "metadata": {},
   "outputs": [],
   "source": [
    "# Replace NAs\n",
    "df['description'] = df['description'].fillna('Keine Beschreibung vorhanden.')\n",
    "df['description'].isna().value_counts()"
   ]
  },
  {
   "cell_type": "code",
   "execution_count": null,
   "id": "2af20024-8bc8-4ec9-937c-1eeca672ef47",
   "metadata": {},
   "outputs": [],
   "source": [
    "# Merge headline and description to a variable called \"text\"\n",
    "df['text'] = df.apply(lambda row: 'Headline: ' + row['headline'] + '\\n\\nDescription: ' + row['description'], axis=1)"
   ]
  },
  {
   "cell_type": "code",
   "execution_count": null,
   "id": "a36f05ea-dcac-42f5-bb21-e0ddb9dfa8b5",
   "metadata": {
    "scrolled": true
   },
   "outputs": [],
   "source": [
    "## Format date_time\n",
    "df['date_time'] = pd.to_datetime(df['date_time'],format='%d.%m.%Y – %H:%M')"
   ]
  },
  {
   "cell_type": "markdown",
   "id": "55f27639-f492-4133-a77a-96f2975cfc60",
   "metadata": {},
   "source": [
    "## Step 4: Categorization of \"Violence against Women\" with an AI model"
   ]
  },
  {
   "cell_type": "markdown",
   "id": "3dd928f7-28a5-41b8-981e-153e0414c701",
   "metadata": {},
   "source": [
    "### Categorization \"Violence against Women\" vs. \"No Violence against Women\""
   ]
  },
  {
   "cell_type": "code",
   "execution_count": null,
   "id": "270f6582-e1c8-4e1c-ace8-41b8df8b14a2",
   "metadata": {},
   "outputs": [],
   "source": [
    "# Set Up API Key\n",
    "api_key = os.getenv(\"API_KEY\")\n",
    "client = OpenAI(api_key=api_key)"
   ]
  },
  {
   "cell_type": "code",
   "execution_count": null,
   "id": "321080d0-9f31-4769-8fbe-594b9c594f32",
   "metadata": {},
   "outputs": [],
   "source": [
    "# Define the Text Column Name\n",
    "text_column_name = \"text\""
   ]
  },
  {
   "cell_type": "code",
   "execution_count": null,
   "id": "c13ac8c9-ab02-423e-828c-f27b85911965",
   "metadata": {},
   "outputs": [],
   "source": [
    "# Create a Sample File for Testing\n",
    "SIZE_OF_SAMPLE = 400\n",
    "df_sample = df.sample(n=SIZE_OF_SAMPLE)"
   ]
  },
  {
   "cell_type": "code",
   "execution_count": null,
   "id": "721959d1-2ac5-4da4-b14e-7a957561a9a7",
   "metadata": {},
   "outputs": [],
   "source": [
    "# Create my Options\n",
    "class PoliceReportOptions(str, Enum):\n",
    "    women_violence = \"Violence against Women\"\n",
    "    no_women_violence = \"No Violence against Women\""
   ]
  },
  {
   "cell_type": "code",
   "execution_count": null,
   "id": "b92ba201-53f3-45aa-b78e-8af33894a5e2",
   "metadata": {},
   "outputs": [],
   "source": [
    "# Basic Prompt\n",
    "prompt_base = \"\"\"\n",
    "\n",
    "These are police reports from Germany: {report_text} Please categorize them, and choose only from these options: {categories}\n",
    "\n",
    "Examples:\n",
    "\n",
    "Text: \"Headline: Sexuelle Belästigung - Bundespolizei stellt Tatverdächtigen im Hauptbahnhof \\n\\nDescription:  Am Montagmittag (30. Juni) soll ein 66-jähriger Münsteraner ein 16-jähriges Mädchen im Vorbeigehen unsittlich berührt haben. Den Angaben der Jugendlichen zufolge, überquerte sie die Ampelanlage vor dem Hauptbahnhof in Richtung Windthorststraße, als der Mann sie angerempelt und an den Hintern gefasst haben soll. Der Mann verschwand anschließend ...\"\n",
    "Classification: \"Violence against Women\"\n",
    "\n",
    "Text: \"Headline: Asperg: 25-Jähriger masturbiert in Schwimmbad - Polizei ermittelt \\n\\nDescription: Weil er sexuelle Handlungen vor Kindern vorgenommen hat, wird sich ein 25-jähriger Mann wegen des sexuellen Missbrauchs von Kindern verantworten müssen. Der 25-Jährige befand sich am Mittwoch (02.07.2025) gegen 17.00 Uhr im Freibad in Asperg im Nichtschwimmerbecken auf einer Sprudelliege und masturbierte. Dies konnte zunächst ein 13-Jähriger ...\"\n",
    "Classification: \"No Violence against Women\"\n",
    "\n",
    "Text: \"Headline: Kamen - Polizei ermittelt Tatverdächtigen nach Beziehungsstreit \\n\\nDescription: Kamen (ots) - Am Dienstag (01.07.2025) kam es gegen 19.10 Uhr zu Beziehungsstreitigkeiten zwischen einer 38-Jährigen Ukrainerin aus Lünen und einem 55-Jährigen Usbeken aus Dortmund. Ausgetragen wurde der Streit in einem Lebensmittelgeschäft an der Königsberger Straße in Kamen-Mitte. Der Mann kam dorthin mit der Absicht, ein Gespräch mit seiner Ex-Frau führen zu ...\"\n",
    "Classification: \"Violence against Women\"\n",
    "\n",
    "Text: \"Headline: Pressemeldungen aus dem Bereich Cloppenburg \\n\\nDescription: Löningen - Diebstahl von Kupferkabeln Am Dienstag, 01. Juli 2025 gegen 07:15 Uhr meldete eine 54-jährige Frau aus Löningen, dass drei männliche Personen Kupferkabel von ihrem Grundstück in der Herzlaker Straße entwendet hätten. Einer der Männer konnte wie folgt beschrieben werden: - ca. 165-175cm groß - schlank - ca. 25 Jahre - dunkle Hose - weißes T-Shirt Die Männer entfernten sich ...\"\n",
    "\n",
    "Please check your answers carefully.\n",
    "\n",
    "\"\"\""
   ]
  },
  {
   "cell_type": "code",
   "execution_count": null,
   "id": "b18921fb-de68-4bbf-ba2e-7ee20b46ee65",
   "metadata": {},
   "outputs": [],
   "source": [
    "# Create a column in the dataframes with the prompt for each item\n",
    "\n",
    "df_sample_prompt_column = df_sample.apply(lambda row: prompt_base.format(\n",
    "    report_text=row[text_column_name],\n",
    "    categories=\", \".join(['\"{}\"'.format(opt.value) for opt in PoliceReportOptions])\n",
    "), axis=\"columns\")\n",
    "\n",
    "df_prompt_column = df.apply(lambda row: prompt_base.format(\n",
    "    report_text=row[text_column_name],\n",
    "    categories=\", \".join(['\"{}\"'.format(opt.value) for opt in PoliceReportOptions])\n",
    "), axis=\"columns\")"
   ]
  },
  {
   "cell_type": "code",
   "execution_count": null,
   "id": "ac7e6ba7-64c2-4ff7-9c4c-60c7332d2525",
   "metadata": {},
   "outputs": [],
   "source": [
    "# Set Up Cost Estimation\n",
    "\n",
    "def count_tokens(model, text):\n",
    "    encoding = tiktoken.encoding_for_model(model if model != 'gpt-4.1-mini' else 'gpt-4o')\n",
    "    tokens = encoding.encode(text)\n",
    "    return len(tokens)\n",
    "\n",
    "input_token_costs = {\n",
    "    \"gpt-4.1-mini\": 0.4 / 1_000_000,  # https://openai.com/api/pricing/\n",
    "    \"mistral-medium-latest\": 0.4 / 1_000_000, # https://mistral.ai/pricing#api-pricing\n",
    "    \"mistral-large-latest\": 2.0 / 1_000_000\n",
    "}\n",
    "def estimate_cost(model, token_count):\n",
    "    return token_count * input_token_costs[model]\n",
    "\n",
    "MODEL_TO_USE = 'gpt-4.1-mini'\n",
    "\n",
    "count_tokens_for_our_model = lambda text: count_tokens(MODEL_TO_USE, text)"
   ]
  },
  {
   "cell_type": "code",
   "execution_count": null,
   "id": "316c6182-d0ab-4304-bfde-ea068400c670",
   "metadata": {
    "scrolled": true
   },
   "outputs": [],
   "source": [
    "# Cost Estimation Sample\n",
    "token_count_sample = count_tokens_for_our_model(\"SAMPLE RESPONSE SAMPLE RESPONSE\".join(df_sample_prompt_column))\n",
    "\"Sample would cost: ${:.2f}\".format(estimate_cost(MODEL_TO_USE, token_count_sample))"
   ]
  },
  {
   "cell_type": "code",
   "execution_count": null,
   "id": "681e19b9-6414-4be7-b901-2d307faf9f62",
   "metadata": {
    "scrolled": true
   },
   "outputs": [],
   "source": [
    "# Cost Estimation Full Data\n",
    "token_count_full = count_tokens_for_our_model(\"SAMPLE RESPONSE SAMPLE RESPONSE\".join(df_prompt_column))\n",
    "\"Full dataset would cost: ${:.2f}\".format(estimate_cost(MODEL_TO_USE, token_count_full))"
   ]
  },
  {
   "cell_type": "code",
   "execution_count": null,
   "id": "855cf159-eb17-4533-95c0-75caa7182201",
   "metadata": {},
   "outputs": [],
   "source": [
    "# Send the Prompt To OpenAI\n",
    "\n",
    "class PoliceReportValidOptions(BaseModel):\n",
    "  classification: PoliceReportOptions\n",
    "\n",
    "def classify(prompt_including_tweet):\n",
    "\n",
    "    messages = [\n",
    "        {\n",
    "            \"role\": \"system\",\n",
    "            \"content\": \"You are a helpful assistant.\",\n",
    "        },\n",
    "        {\n",
    "            \"role\": \"user\",\n",
    "            \"content\": prompt_including_tweet,\n",
    "        }\n",
    "    ]\n",
    "\n",
    "    chat_completion = client.responses.parse(\n",
    "        input=messages,\n",
    "        model='gpt-4o',\n",
    "        text_format=PoliceReportValidOptions,\n",
    "    )\n",
    "\n",
    "    resp = chat_completion.output_parsed.classification.value if chat_completion.output_parsed else None\n",
    "    return resp"
   ]
  },
  {
   "cell_type": "code",
   "execution_count": null,
   "id": "e1d1319d-14d7-4a8c-8d05-3121dfe4572c",
   "metadata": {
    "scrolled": true
   },
   "outputs": [],
   "source": [
    "# Classify every report in the sample\n",
    "df_sample[\"ai_guess\"] = df_sample_prompt_column.progress_apply(classify)"
   ]
  },
  {
   "cell_type": "code",
   "execution_count": null,
   "id": "fd25ff5a-bb2f-43b1-87ef-b1c1529ba2d1",
   "metadata": {},
   "outputs": [],
   "source": [
    "# Download the Data for Hand Classification\n",
    "df_sample[\"groundtruth\"] = \"\"\n",
    "df_sample.to_csv('df_sample_for_hand_classification.csv')"
   ]
  },
  {
   "cell_type": "code",
   "execution_count": null,
   "id": "c85cbd88-4df1-46f0-8e9f-be7135b13407",
   "metadata": {
    "scrolled": true
   },
   "outputs": [],
   "source": [
    "# Upload the Data again after Hand Classification\n",
    "handcoded = pd.read_csv(\"df_sample_hand_classified.csv\", sep=\";\")"
   ]
  },
  {
   "cell_type": "code",
   "execution_count": null,
   "id": "240de7ba-c57c-4dca-87bd-cb5c8cfe8eb4",
   "metadata": {},
   "outputs": [],
   "source": [
    "# Accuracy Score\n",
    "display(Markdown(\"Accuracy score: {:.1%}.\".format(\n",
    "    accuracy_score(handcoded[\"groundtruth\"], handcoded[\"ai_guess\"])\n",
    ")))"
   ]
  },
  {
   "cell_type": "code",
   "execution_count": 70,
   "id": "44af8588-ae58-4ac8-97e6-dbe06b2b6824",
   "metadata": {},
   "outputs": [
    {
     "data": {
      "text/plain": [
       "<sklearn.metrics._plot.confusion_matrix.ConfusionMatrixDisplay at 0x1284d82f0>"
      ]
     },
     "execution_count": 70,
     "metadata": {},
     "output_type": "execute_result"
    },
    {
     "data": {
      "image/png": "[encoded data removed]",
      "text/plain": [
       "<Figure size 640x480 with 2 Axes>"
      ]
     },
     "metadata": {},
     "output_type": "display_data"
    }
   ],
   "source": [
    "# Confusion Matrix\n",
    "ConfusionMatrixDisplay.from_predictions(handcoded[\"groundtruth\"], handcoded[\"ai_guess\"],  xticks_rotation=\"vertical\")"
   ]
  },
  {
   "cell_type": "code",
   "execution_count": 76,
   "id": "888fe419-a672-429f-9e26-9789917f710e",
   "metadata": {},
   "outputs": [
    {
     "name": "stdout",
     "output_type": "stream",
     "text": [
      "Accuracy: 0.9925\n",
      "Baseline: 0.975\n"
     ]
    }
   ],
   "source": [
    "# Compare Baseline and Accuracy\n",
    "accuracy = accuracy_score(handcoded[\"groundtruth\"], handcoded[\"ai_guess\"])\n",
    "most_common_answer = handcoded.groupby(\"groundtruth\").count().idxmax().ai_guess\n",
    "baseline = accuracy_score(handcoded[\"groundtruth\"], [most_common_answer] * len(handcoded[\"ai_guess\"]))\n",
    "print(f'Accuracy: {accuracy}')\n",
    "print(f'Baseline: {baseline}')"
   ]
  },
  {
   "cell_type": "code",
   "execution_count": 80,
   "id": "c12b695c-02bd-4581-8305-17353737e438",
   "metadata": {},
   "outputs": [
    {
     "data": {
      "text/plain": [
       "0.8888888888888888"
      ]
     },
     "execution_count": 80,
     "metadata": {},
     "output_type": "execute_result"
    }
   ],
   "source": [
    "# Calculate Precision Score\n",
    "precision_score(handcoded[\"groundtruth\"] == PoliceReportOptions.women_violence, handcoded[\"ai_guess\"] == PoliceReportOptions.women_violence)"
   ]
  },
  {
   "cell_type": "code",
   "execution_count": 82,
   "id": "26026d67-5c9e-406b-9c82-028ba9562d77",
   "metadata": {},
   "outputs": [
    {
     "data": {
      "text/plain": [
       "0.8"
      ]
     },
     "execution_count": 82,
     "metadata": {},
     "output_type": "execute_result"
    }
   ],
   "source": [
    "# Calculate Recall Score\n",
    "recall_score(handcoded[\"groundtruth\"] == PoliceReportOptions.women_violence, handcoded[\"ai_guess\"] == PoliceReportOptions.women_violence)"
   ]
  },
  {
   "cell_type": "code",
   "execution_count": null,
   "id": "ac195fea-39aa-45fc-a069-db89cc4b4e5e",
   "metadata": {},
   "outputs": [],
   "source": [
    "# Classify the whole dataset\n",
    "df_prompt_column = prompt_base + df[text_column_name]\n",
    "df[\"ai_guess\"] = df_prompt_column.progress_apply(classify)"
   ]
  },
  {
   "cell_type": "code",
   "execution_count": null,
   "id": "f7184c18-459d-4d71-b89f-c5555a172139",
   "metadata": {},
   "outputs": [],
   "source": [
    "# Filter for Violence against women\n",
    "df_filtered = df[df['ai_guess']=='Violence against Women']"
   ]
  },
  {
   "cell_type": "code",
   "execution_count": null,
   "id": "c6a96e0c-fdc2-4bda-949c-653e93db6ad1",
   "metadata": {},
   "outputs": [],
   "source": [
    "# Download the Dataset to check manually whether all reports classified as \"violence against women\" are indeed \"violence against women\".\n",
    "# By my definition, \"violence against women\" must be a central part of the crime. A robbery involving a woman, for example, would not be.\n",
    "df_filtered.to_csv('df_filtered_for_hand_classification.csv')"
   ]
  },
  {
   "cell_type": "code",
   "execution_count": null,
   "id": "0363a6a0-49cf-4bb3-8a34-4417ce7f27ab",
   "metadata": {
    "scrolled": true
   },
   "outputs": [],
   "source": [
    "# Upload the factchecked data\n",
    "df_factchecked = pd.read_csv(\"df_filtered_factchecked.csv\", sep=\";\")"
   ]
  },
  {
   "cell_type": "code",
   "execution_count": null,
   "id": "e17155b6-4cc1-4dfe-8bbc-6572e3d899bc",
   "metadata": {},
   "outputs": [],
   "source": [
    "# Filter factchecked Data for \"Violence against women\"\n",
    "df_factchecked_filtered = df_factchecked[df_factchecked['factcheck']=='Violence against Women']"
   ]
  },
  {
   "cell_type": "code",
   "execution_count": null,
   "id": "d9aff141-379e-4a23-966d-5e7f71da4ccd",
   "metadata": {},
   "outputs": [],
   "source": [
    "# Keep only variables needed\n",
    "df_factchecked_filtered = df_factchecked_filtered.drop(columns=['ai_guess', 'factcheck'])"
   ]
  },
  {
   "cell_type": "markdown",
   "id": "c51173db-5a51-46dd-8c2a-be35df8844a4",
   "metadata": {},
   "source": [
    "### Categorization: Public vs. Private Environment\n",
    "\n",
    "I want to categorize whether the crime occured in the private environment of a woman or in the public.\n",
    "\n",
    "The AI model is supposed to perform an initial sorting, but in this case I will check all the data again by hand. That is why I am not calculating any accuracy scores in this case."
   ]
  },
  {
   "cell_type": "code",
   "execution_count": null,
   "id": "f1bdb702-a2b7-483e-b5bb-d6d211f041de",
   "metadata": {},
   "outputs": [],
   "source": [
    "# Redefine Text Column\n",
    "text_column_name = \"text\""
   ]
  },
  {
   "cell_type": "code",
   "execution_count": null,
   "id": "1cebad8d-8734-4297-8b88-41dfc531bb4e",
   "metadata": {},
   "outputs": [],
   "source": [
    "# Create my Options\n",
    "class PublicPrivateOptions(str, Enum):\n",
    "    public = \"in public\"\n",
    "    non_public = \"private environment\"\n",
    "    other = \"relationship unclear\""
   ]
  },
  {
   "cell_type": "code",
   "execution_count": null,
   "id": "c6ab14d9-3859-4da4-9870-63ae237a8040",
   "metadata": {},
   "outputs": [],
   "source": [
    "# Basic Prompt\n",
    "prompt_base = \"\"\"\n",
    "\n",
    "These are police reports from Germany, covering violence against women: {report_text} Please categorize them, and choose only from these options: {categories}\n",
    "\"in public\" means that the woman did not know the perpetrator. \"private environment\" means the woman did know her perpetrator before. \"relationship unclear\" means that the report does not include information on the relation between victim and perpretator.\n",
    "\n",
    "Examples:\n",
    "\n",
    "Text: \"Headline: Sexuelle Belästigung im Schlosspark Celle - Zeugen gesucht \\n\\nDescription: Celle - Am Dienstag, den 01.07.2025, ist es zwischen 16:30 und 17:10 Uhr im Schlosspark Celle durch einen unbekannten männlichen Täter zu einer sexuellen Belästigung gekommen. Der Mann soll zwei 13-jährigen Mädchen von der Stechbahn bis zum Spielplatz im Schlosspark gefolgt sein. Dabei hat er sich immer wieder in den Schritt gefasst und den Mädchen zugewunken. Im Anschluss hat der Mann auf dem ...\"\n",
    "Classification: \"in public\"\n",
    "\n",
    "Text: \"Headline: Einsatz am Platz der Republik \\n\\n Description: Am frühen Freitagabend geriet ein 27-Jähriger aus Gera mit seiner 22-jährigen Ex-Freundin auf einem Spielplatz in der Geraer Innenstadt in Streit und beleidigte diese. Die Situation blieb einigen Passanten nicht unbemerkt. Sie forderten den Aggressor auf, die junge Frau in Ruhe zu lassen. Wutentbrannt entfernte sich der Herr einige Meter, nur um mit einer Gruppe Jugendlicher die nächste Auseinandersetzung ...\"\n",
    "Classification: \"private environment\"\n",
    "\n",
    "Text: \"Headline: Darmstadt: In Umkleidekabine fotografiert/Polizei nimmt 55-Jährigen fest \\n\\nDescription: Eine 19 Jahre alte Frau bemerkte am Freitagnachmittag (04.07.), kurz vor 15.30 Uhr, dass ein Mann in einer Umkleidekabine des Nordbads in der Alsfelder Straße heimlich Fotos von ihr fertigte. Sie verständigte daraufhin sofort Angestellte des Schwimmbads. Der 55 Jahre alte Verdächtige aus dem ...\"\n",
    "Classification: \"relationship unclear\"\n",
    "\n",
    "Please check your answers carefully.\n",
    "\n",
    "\"\"\""
   ]
  },
  {
   "cell_type": "code",
   "execution_count": null,
   "id": "124ecb49-1e84-4a25-98d3-7f9e2abfb439",
   "metadata": {},
   "outputs": [],
   "source": [
    "# Create a column in my dataframe with the prompt for each item\n",
    "\n",
    "df_factchecked_filtered_column = df_factchecked_filtered.apply(lambda row: prompt_base.format(\n",
    "    report_text=row[text_column_name],\n",
    "    categories=\", \".join(['\"{}\"'.format(opt.value) for opt in PublicPrivateOptions])\n",
    "), axis=\"columns\")"
   ]
  },
  {
   "cell_type": "code",
   "execution_count": null,
   "id": "9099dd1b-98e1-41de-bd13-3cd53573dcbc",
   "metadata": {},
   "outputs": [],
   "source": [
    "# Cost Estimation Set Up\n",
    "\n",
    "def count_tokens(model, text):\n",
    "    encoding = tiktoken.encoding_for_model(model if model != 'gpt-4.1-mini' else 'gpt-4o')\n",
    "    tokens = encoding.encode(text)\n",
    "    return len(tokens)\n",
    "\n",
    "input_token_costs = {\n",
    "    \"gpt-4.1-mini\": 0.4 / 1_000_000,  # https://openai.com/api/pricing/\n",
    "    \"mistral-medium-latest\": 0.4 / 1_000_000, # https://mistral.ai/pricing#api-pricing\n",
    "    \"mistral-large-latest\": 2.0 / 1_000_000\n",
    "}\n",
    "def estimate_cost(model, token_count):\n",
    "    return token_count * input_token_costs[model]\n",
    "\n",
    "MODEL_TO_USE = 'gpt-4.1-mini'\n",
    "\n",
    "count_tokens_for_our_model = lambda text: count_tokens(MODEL_TO_USE, text)"
   ]
  },
  {
   "cell_type": "code",
   "execution_count": null,
   "id": "916021ec-79cd-4f18-be19-7f895025ea57",
   "metadata": {},
   "outputs": [],
   "source": [
    "# Cost Estimation\n",
    "token_count_full = count_tokens_for_our_model(\"SAMPLE RESPONSE SAMPLE RESPONSE\".join(df_factchecked_filtered_column))\n",
    "\"Full dataset would cost: ${:.2f}\".format(estimate_cost(MODEL_TO_USE, token_count_full))"
   ]
  },
  {
   "cell_type": "code",
   "execution_count": null,
   "id": "4c8f637f-abb7-4c43-a542-d727a56dabe3",
   "metadata": {},
   "outputs": [],
   "source": [
    "# Send the Prompt To OpenAI\n",
    "\n",
    "class PublicPrivateValidOptions(BaseModel):\n",
    "  classification: PublicPrivateOptions\n",
    "\n",
    "def classify(prompt_including_tweet):\n",
    "\n",
    "    messages = [\n",
    "        {\n",
    "            \"role\": \"system\",\n",
    "            \"content\": \"You are a helpful assistant.\",\n",
    "        },\n",
    "        {\n",
    "            \"role\": \"user\",\n",
    "            \"content\": prompt_including_tweet,\n",
    "        }\n",
    "    ]\n",
    "\n",
    "    chat_completion = client.responses.parse(\n",
    "        input=messages,\n",
    "        model='gpt-4o',\n",
    "        text_format=PublicPrivateValidOptions,\n",
    "    )\n",
    "\n",
    "    resp = chat_completion.output_parsed.classification.value if chat_completion.output_parsed else None\n",
    "    return resp"
   ]
  },
  {
   "cell_type": "code",
   "execution_count": null,
   "id": "0312eabd-296a-4963-9809-3f9121318944",
   "metadata": {
    "scrolled": true
   },
   "outputs": [],
   "source": [
    "# Classify every report in the sample\n",
    "df_factchecked_filtered[\"ai_guess\"] = df_factchecked_filtered_column.progress_apply(classify)"
   ]
  },
  {
   "cell_type": "code",
   "execution_count": null,
   "id": "beb11e52-bc4d-4d1f-abd8-a622ab6756b0",
   "metadata": {},
   "outputs": [],
   "source": [
    "# Export for Manual Factcheck\n",
    "df_factchecked_filtered[\"factcheck_publicprivate\"] = \"\"\n",
    "df_factchecked_filtered.to_csv('df_factchecked_filtered_for_hand_classification.csv')"
   ]
  },
  {
   "cell_type": "code",
   "execution_count": null,
   "id": "9e2bf39f-5c47-4f93-917d-8fc4b0c73e0c",
   "metadata": {},
   "outputs": [],
   "source": [
    "# Load the factchecked dataset back into notebook\n",
    "df_factchecked_publicprivate = pd.read_csv(\"df_factchecked_publicprivate.csv\", sep=\";\")"
   ]
  },
  {
   "cell_type": "code",
   "execution_count": null,
   "id": "876bc671-7cdd-4495-9429-ce30f8dbee60",
   "metadata": {
    "scrolled": true
   },
   "outputs": [],
   "source": [
    "# Keep only variables needed\n",
    "df_factchecked_publicprivate = df_factchecked_publicprivate.drop(columns=['ai_guess'])"
   ]
  },
  {
   "cell_type": "markdown",
   "id": "95897d91-a987-4292-8735-458db63f283d",
   "metadata": {},
   "source": [
    "### Classification of Form of Violence\n",
    "\n",
    "I want to categorize which form of violence occured to the women.\n",
    "\n",
    "The AI model is supposed to perform an initial sorting, but in this case I will check all the data again by hand. That is why I am not calculating any accuracy scores in this case."
   ]
  },
  {
   "cell_type": "code",
   "execution_count": null,
   "id": "ab8b5200-85cb-4dab-a5e9-c29e4b60bcfb",
   "metadata": {},
   "outputs": [],
   "source": [
    "# Redefine Text Column\n",
    "text_column_name = \"text\""
   ]
  },
  {
   "cell_type": "code",
   "execution_count": null,
   "id": "1da264f3-11d4-402c-b472-176b5aa59849",
   "metadata": {},
   "outputs": [],
   "source": [
    "# Create my Options\n",
    "class ViolenceOptions(str, Enum):\n",
    "    death = \"homicide\"\n",
    "    physical = \"physical violence (e.g. stabbing, rape)\"\n",
    "    harassment = \"harassment (e.g. verbal, exhibitionism)\""
   ]
  },
  {
   "cell_type": "code",
   "execution_count": null,
   "id": "66cfb5e0-c21f-448b-86ba-881d161bee7c",
   "metadata": {},
   "outputs": [],
   "source": [
    "# Basic Prompt\n",
    "\n",
    "prompt_base = \"\"\"\n",
    "\n",
    "These are police reports from Germany, covering violence against women: {report_text} Please categorize them, and choose only from these options: {categories}\n",
    "\n",
    "Examples:\n",
    "\n",
    "Text: \"Headline: 1/2 Sexuelle Belästigung: Mann entkleidet sich im ICE und belästigt anschließend Bundespolizistin sexuell \\n\\n Description: Nach jetzigem Sachstand der Hamburger Bundespolizei soll am 05.07.2025 gegen 06:58 Uhr ein stark alkoholisierter Mann (Alter: 26 Jahre) sich in einem im Bahnhof Harburg auf Gleis 4 stehenden ICE entkleidet haben. Der betroffene Zug fuhr auf der Strecke Hamburg-Dammtor - Basel. Der marokkanische ...\"\n",
    "Classification: \"harassment (e.g. verbal, exhibitionism)\"\n",
    "\n",
    "Text: \"Headline: 04.07.2025-2-PD NMS- Zeugenaufruf nach Körperverletzung im Freibad Büdelsdorf \\n\\n Description: Am Mittwochabend ist es im Freibad in Büdelsdorf zu einer Körperverletzung gekommen. Eine Mitarbeiterin des Freibades wurde hierbei von einem Jugendlichen ins Gesicht geschlagen. Am 02.07.2025, gegen 19:45 Uhr kam es im Freibad in Büdelsdorf zu einer Körperverletzung. Nach ersten ...\"\n",
    "Classification: \"physical violence (e.g. stabbing, rape)\"\n",
    "\n",
    "Text: \"Headline: Dorsten: Frau und Kleinkind tot aufgefunden - Nachtragsmeldung \\n\\n Description: Gemeinsame Presseerklärung der Staatsanwaltschaft Essen und des Polizeipräsidiums Recklinghausen: Nach dem Fund einer leblosen Frau und eines leblosen Kindes am Sonntag (29.06.2025) gibt es neue Erkenntnisse. Bei der Frau handelt es sich um eine 32-jährige Ukrainerin, bei dem Kind um ihre 1 Jahr und 7 Monate alte Tochter. Beide wohnten in ...\"\n",
    "Classification: \"homicide\"\n",
    "\n",
    "Please check your answers carefully.\n",
    "\n",
    "\"\"\""
   ]
  },
  {
   "cell_type": "code",
   "execution_count": null,
   "id": "3fbb241f-cdc4-4dcf-b47a-de9f151d962b",
   "metadata": {},
   "outputs": [],
   "source": [
    "# Make a column in my dataframe with the prompt for each item\n",
    "df_factchecked_publicprivate_column = df_factchecked_publicprivate.apply(lambda row: prompt_base.format(\n",
    "    report_text=row[text_column_name],\n",
    "    categories=\", \".join(['\"{}\"'.format(opt.value) for opt in ViolenceOptions])\n",
    "), axis=\"columns\")"
   ]
  },
  {
   "cell_type": "code",
   "execution_count": null,
   "id": "aed6e765-6971-4ad5-a5a3-43ab242c56fb",
   "metadata": {},
   "outputs": [],
   "source": [
    "# Cost Estimation Set Up\n",
    "\n",
    "def count_tokens(model, text):\n",
    "    encoding = tiktoken.encoding_for_model(model if model != 'gpt-4.1-mini' else 'gpt-4o')\n",
    "    tokens = encoding.encode(text)\n",
    "    return len(tokens)\n",
    "\n",
    "input_token_costs = {\n",
    "    \"gpt-4.1-mini\": 0.4 / 1_000_000,  # https://openai.com/api/pricing/\n",
    "    \"mistral-medium-latest\": 0.4 / 1_000_000, # https://mistral.ai/pricing#api-pricing\n",
    "    \"mistral-large-latest\": 2.0 / 1_000_000\n",
    "}\n",
    "def estimate_cost(model, token_count):\n",
    "    return token_count * input_token_costs[model]\n",
    "\n",
    "MODEL_TO_USE = 'gpt-4.1-mini'\n",
    "\n",
    "count_tokens_for_our_model = lambda text: count_tokens(MODEL_TO_USE, text)"
   ]
  },
  {
   "cell_type": "code",
   "execution_count": null,
   "id": "d6a75a30-3cdd-45dc-9c72-704ea661502d",
   "metadata": {
    "scrolled": true
   },
   "outputs": [],
   "source": [
    "# Cost Estimation\n",
    "token_count_full = count_tokens_for_our_model(\"SAMPLE RESPONSE SAMPLE RESPONSE\".join(df_factchecked_publicprivate_column))\n",
    "\"Full dataset would cost: ${:.2f}\".format(estimate_cost(MODEL_TO_USE, token_count_full))"
   ]
  },
  {
   "cell_type": "code",
   "execution_count": null,
   "id": "bae68091-82ce-4575-b4be-95a677852e71",
   "metadata": {},
   "outputs": [],
   "source": [
    "# Send the Prompt To OpenAI\n",
    "\n",
    "class ViolenceValidOptions(BaseModel):\n",
    "  classification: ViolenceOptions\n",
    "\n",
    "def classify(prompt_including_tweet):\n",
    "\n",
    "    messages = [\n",
    "        {\n",
    "            \"role\": \"system\",\n",
    "            \"content\": \"You are a helpful assistant.\",\n",
    "        },\n",
    "        {\n",
    "            \"role\": \"user\",\n",
    "            \"content\": prompt_including_tweet,\n",
    "        }\n",
    "    ]\n",
    "\n",
    "    chat_completion = client.responses.parse(\n",
    "        input=messages,\n",
    "        model='gpt-4o',\n",
    "        text_format=ViolenceValidOptions,\n",
    "    )\n",
    "\n",
    "    resp = chat_completion.output_parsed.classification.value if chat_completion.output_parsed else None\n",
    "    return resp"
   ]
  },
  {
   "cell_type": "code",
   "execution_count": null,
   "id": "23f6f4b7-16ec-4d91-84c0-56e8d7eee07b",
   "metadata": {
    "scrolled": true
   },
   "outputs": [],
   "source": [
    "df_factchecked_publicprivate[\"ai_guess\"] = df_factchecked_publicprivate_column.progress_apply(classify)"
   ]
  },
  {
   "cell_type": "code",
   "execution_count": null,
   "id": "0e4e3147-c2ac-424a-953d-f9b10e7a7ab9",
   "metadata": {},
   "outputs": [],
   "source": [
    "# Export for Manual Factcheck\n",
    "df_factchecked_publicprivate[\"factcheck_violenceform\"] = \"\"\n",
    "df_factchecked_publicprivate.to_csv('df_factchecked_violenceform_for_hand_classification.csv')"
   ]
  },
  {
   "cell_type": "code",
   "execution_count": null,
   "id": "7d797f82-dd52-4fea-8ca3-95a0260cd032",
   "metadata": {},
   "outputs": [],
   "source": [
    "# Load the factchecked dataset back into notebook\n",
    "df_factchecked_categorized = pd.read_csv(\"df_factchecked_categorized.csv\", sep=\";\")"
   ]
  },
  {
   "cell_type": "code",
   "execution_count": null,
   "id": "ec816583-cd30-4052-a7e8-1e9eddb5aee7",
   "metadata": {
    "scrolled": true
   },
   "outputs": [],
   "source": [
    "# Keep only variables needed\n",
    "df_factchecked_categorized = df_factchecked_categorized.drop(columns=['ai_guess'])"
   ]
  },
  {
   "cell_type": "markdown",
   "id": "d5abb053-9f6c-43d1-8d05-e2f035820bdc",
   "metadata": {},
   "source": [
    "## Step 5: Final Cleaning of the Dataset"
   ]
  },
  {
   "cell_type": "markdown",
   "id": "69f04416-e02a-47c8-b07e-17d1e0584621",
   "metadata": {},
   "source": [
    "### Filter for Duplicates\n",
    "\n",
    "Problem: For \"bigger\" news stories, there might be more than one report on the same issue in that week. However, I only want to count every incident once. "
   ]
  },
  {
   "cell_type": "code",
   "execution_count": null,
   "id": "ff11e5fe-68d7-43b1-a819-aea57fc2ca4a",
   "metadata": {},
   "outputs": [],
   "source": [
    "#Identifying Duplicates: Filter for rows with the same location and same form of violence\n",
    "counts = df_factchecked_categorized.groupby(['location', 'factcheck_violenceform']).size()\n",
    "duplicates = counts[counts > 1].reset_index()[['location', 'factcheck_violenceform']]\n",
    "potential_duplicates = df_factchecked_categorized.merge(duplicates, on=['location', 'factcheck_violenceform'], how='inner')\n",
    "potential_duplicates.sort_values(by='location')\n",
    "potential_duplicates.to_csv('potential_duplicates.csv')"
   ]
  },
  {
   "cell_type": "code",
   "execution_count": null,
   "id": "7d96f433-9fee-4614-8f5f-8cde7fdb5a93",
   "metadata": {},
   "outputs": [],
   "source": [
    "#Manually Dropping Duplicates\n",
    "df_factchecked_categorized = df_factchecked_categorized[df_factchecked_categorized['headline'] != \"Dorsten: Frau und Kind tot aufgefunden - Nachtrag: 16-Jähriger in Untersuchungshaft\"]\n",
    "df_factchecked_categorized = df_factchecked_categorized[df_factchecked_categorized['headline'] != \"Zweite Folgemeldung zu: Gemeinsame Pressemeldung der Staatsanwaltschaft Essen und der Polizei Gelsenkirchen: Mann gesteht Gewalttat\"]"
   ]
  },
  {
   "cell_type": "markdown",
   "id": "12d93a0d-bd87-4dc2-b6b6-c2ff293811b0",
   "metadata": {},
   "source": [
    "### Geolocate the Locations"
   ]
  },
  {
   "cell_type": "code",
   "execution_count": null,
   "id": "ee7fe8a9-b83b-42b6-b2af-5186939c0012",
   "metadata": {},
   "outputs": [],
   "source": [
    "# Set Up the API Key for Geocoder\n",
    "api_key_geocoding = os.getenv(\"API_KEY_GEOCODING\")\n",
    "\n",
    "df_geolocated = df_factchecked_categorized\n",
    "df_geolocated['coordinates'] = df_geolocated['location'].apply(lambda city: geocoder.google(f'{city}', key=api_key).latlng)"
   ]
  },
  {
   "cell_type": "code",
   "execution_count": null,
   "id": "755ce487-900c-4168-b27e-7c5c567b8337",
   "metadata": {},
   "outputs": [],
   "source": [
    "# Adjust for coordinates in Gera which Geocoder could not find\n",
    "df_geolocated.loc[df_geolocated['location'] == \"Gera\", 'coordinates'] = \"[50.8805556, 12.08333333]\""
   ]
  },
  {
   "cell_type": "code",
   "execution_count": null,
   "id": "0315f87f-e4fd-46d5-a641-8ab66f517bb8",
   "metadata": {
    "scrolled": true
   },
   "outputs": [],
   "source": [
    "# Create a lat and a long variable\n",
    "df_geolocated['coordinates']= df_geolocated['coordinates'].astype(str)\n",
    "df_geolocated['lat'] = df_geolocated['coordinates'].str.extract(r\"([+-]?\\d+(?:\\.\\d+)?)\",expand=False)\n",
    "df_geolocated['long'] = df_geolocated['coordinates'].str.extract(r\"\\[\\s*[+-]?\\d+(?:\\.\\d+)?\\s*,\\s*([+-]?\\d+(?:\\.\\d+)?)\",expand=False)"
   ]
  },
  {
   "cell_type": "markdown",
   "id": "174b2211-3de9-4296-b243-8a8ffd92e5c5",
   "metadata": {},
   "source": [
    "### Add / Delete Variables"
   ]
  },
  {
   "cell_type": "code",
   "execution_count": null,
   "id": "04421ef0-254e-44c8-9086-1b05b34910fe",
   "metadata": {},
   "outputs": [],
   "source": [
    "#Keep only variables needed for analysis\n",
    "df_final = df_geolocated[['text','factcheck_publicprivate','factcheck_violenceform','location','lat','long','date_time']]\n",
    "df_final.head()"
   ]
  },
  {
   "cell_type": "code",
   "execution_count": null,
   "id": "e4a38ae2-2e76-4b42-b8e5-7d0d7b774a45",
   "metadata": {},
   "outputs": [],
   "source": [
    "#Add a variable for weekday\n",
    "df_final['date_time'] = pd.to_datetime(df_final['date_time'])\n",
    "df_final['weekday'] = df_final['date_time'].dt.day_name()"
   ]
  },
  {
   "cell_type": "markdown",
   "id": "555db50e-bd79-417b-a8a0-33e62fcf98b8",
   "metadata": {},
   "source": [
    "## Step 6: Statistics with Final Data"
   ]
  },
  {
   "cell_type": "code",
   "execution_count": 182,
   "id": "13ac4e4b-c4f1-4f33-9b0a-5c43025f850e",
   "metadata": {},
   "outputs": [
    {
     "data": {
      "text/plain": [
       "57"
      ]
     },
     "execution_count": 182,
     "metadata": {},
     "output_type": "execute_result"
    }
   ],
   "source": [
    "# Sum of incidents\n",
    "len(df_final)"
   ]
  },
  {
   "cell_type": "code",
   "execution_count": 183,
   "id": "09070a11-2bb9-4c8f-85ab-875f955c2a17",
   "metadata": {},
   "outputs": [
    {
     "data": {
      "text/plain": [
       "factcheck_publicprivate\n",
       "in public               28\n",
       "relationship unclear    16\n",
       "private environment     13\n",
       "Name: count, dtype: int64"
      ]
     },
     "execution_count": 183,
     "metadata": {},
     "output_type": "execute_result"
    }
   ],
   "source": [
    "# Sum of incidents by public / private environment\n",
    "df_final.value_counts(\"factcheck_publicprivate\")"
   ]
  },
  {
   "cell_type": "code",
   "execution_count": 184,
   "id": "39599649-6e8b-4c81-9295-5b81918c2c11",
   "metadata": {},
   "outputs": [
    {
     "data": {
      "text/plain": [
       "factcheck_violenceform\n",
       "harassment (e.g. verbal, exhibitionism)    27\n",
       "physical violence (e.g. stabbing, rape)    26\n",
       "homicide                                    4\n",
       "Name: count, dtype: int64"
      ]
     },
     "execution_count": 184,
     "metadata": {},
     "output_type": "execute_result"
    }
   ],
   "source": [
    "# Sum of incidents by violence form\n",
    "df_final.value_counts(\"factcheck_violenceform\")"
   ]
  },
  {
   "cell_type": "code",
   "execution_count": 185,
   "id": "2e3d2c76-be62-44ac-af23-70151e1c79d1",
   "metadata": {},
   "outputs": [
    {
     "data": {
      "text/plain": [
       "factcheck_publicprivate  factcheck_violenceform                 \n",
       "in public                harassment (e.g. verbal, exhibitionism)    17\n",
       "                         physical violence (e.g. stabbing, rape)    11\n",
       "private environment      physical violence (e.g. stabbing, rape)     6\n",
       "                         harassment (e.g. verbal, exhibitionism)     4\n",
       "                         homicide                                    3\n",
       "relationship unclear     physical violence (e.g. stabbing, rape)     9\n",
       "                         harassment (e.g. verbal, exhibitionism)     6\n",
       "                         homicide                                    1\n",
       "Name: count, dtype: int64"
      ]
     },
     "execution_count": 185,
     "metadata": {},
     "output_type": "execute_result"
    }
   ],
   "source": [
    "# Comparison public of private environment and violence form\n",
    "df_final.groupby('factcheck_publicprivate')['factcheck_violenceform'].value_counts()"
   ]
  },
  {
   "cell_type": "code",
   "execution_count": 190,
   "id": "3430eea7-a7e3-458b-88be-ffe992ed1b4d",
   "metadata": {},
   "outputs": [
    {
     "data": {
      "text/plain": [
       "weekday\n",
       "Wednesday    13\n",
       "Friday       10\n",
       "Thursday     10\n",
       "Monday        8\n",
       "Tuesday       7\n",
       "Sunday        6\n",
       "Saturday      3\n",
       "Name: count, dtype: int64"
      ]
     },
     "execution_count": 190,
     "metadata": {},
     "output_type": "execute_result"
    }
   ],
   "source": [
    "# How many reports were there per day?\n",
    "df_final.value_counts('weekday')"
   ]
  },
  {
   "cell_type": "code",
   "execution_count": null,
   "id": "6a93d4d9-5296-4e2b-b7e0-bce8c8e02b55",
   "metadata": {},
   "outputs": [],
   "source": [
    "# Save Final Data\n",
    "df_final.to_csv(\"df_final.csv\", index=False)"
   ]
  }
 ],
 "metadata": {
  "kernelspec": {
   "display_name": "Python 3 (ipykernel)",
   "language": "python",
   "name": "python3"
  },
  "language_info": {
   "codemirror_mode": {
    "name": "ipython",
    "version": 3
   },
   "file_extension": ".py",
   "mimetype": "text/x-python",
   "name": "python",
   "nbconvert_exporter": "python",
   "pygments_lexer": "ipython3",
   "version": "3.12.10"
  }
 },
 "nbformat": 4,
 "nbformat_minor": 5
}
